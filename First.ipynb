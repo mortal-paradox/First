{
  "nbformat": 4,
  "nbformat_minor": 0,
  "metadata": {
    "colab": {
      "name": "First.ipynb",
      "provenance": [],
      "authorship_tag": "ABX9TyOHxZldgmgOaC/8nVgrHZNg",
      "include_colab_link": true
    },
    "kernelspec": {
      "name": "python3",
      "display_name": "Python 3"
    }
  },
  "cells": [
    {
      "cell_type": "markdown",
      "metadata": {
        "id": "view-in-github",
        "colab_type": "text"
      },
      "source": [
        "<a href=\"https://colab.research.google.com/github/mortal-paradox/First/blob/master/First.ipynb\" target=\"_parent\"><img src=\"https://colab.research.google.com/assets/colab-badge.svg\" alt=\"Open In Colab\"/></a>"
      ]
    },
    {
      "cell_type": "markdown",
      "metadata": {
        "id": "yXb-IkN0dizp",
        "colab_type": "text"
      },
      "source": [
        "This is __bold__\n",
        "This is _italic_\n",
        "<s>This is strikethrough</>\n"
      ]
    },
    {
      "cell_type": "markdown",
      "metadata": {
        "id": "qipgEkrSegdV",
        "colab_type": "text"
      },
      "source": [
        "$\\sqrt{3x-1}+(1+x)^2$"
      ]
    },
    {
      "cell_type": "markdown",
      "metadata": {
        "id": "3xPrX8sLfXkz",
        "colab_type": "text"
      },
      "source": [
        "$e^x = \\sum_{i = 0}^\\infty \\frac{1}{i!}x^i$"
      ]
    },
    {
      "cell_type": "markdown",
      "metadata": {
        "id": "F1BejvxXgMSe",
        "colab_type": "text"
      },
      "source": [
        "Constraints are\n",
        "\n",
        "    - $3x_1 + 6x_2 + x_3 =< 28$\n",
        "    - $7x_1 + 3x_2 + 2_x3 =< 37$\n",
        "    - $4x_1 + 5x_2 + 2x_3 =< 19$\n",
        "    - $x_1,x_2,x_3 >=0$\n",
        "\n",
        "\n",
        "The trial vector is calculated as follows:\n",
        "- $u_i(t) = x_i(t) + \\beta(\\hat{x}(t) - x_1(t)) + \\beta \\sum_{k =1}^{n_v}(x_{i1,k}(t) - x_{i2,k}(t))$\n",
        "$f(x_1, x_2) = 20 + e - 20exp(-0.2 \\sqrt {\\frac {1}{n} (x_1^2 + x_2^2)}) - exp (\\frac {1}{n}(cos(2\\pi x_1) + cos(2\\pi x_2))$\n",
        "\n",
        "\n",
        "$x |\\epsilon| [-5, 5]$\n",
        ">$A_{m,n} = \n",
        "  \\begin{pmatrix}\n",
        "  a_{1,1} > a{1,2} > \\cdots > a_1{1,n} \\\\\n",
        "  a_{2,1} > a{2,2} > \\cdots > a_1{2,n} \\\\\n",
        "  \\vdots > \\vdots > \\ddots > \\vdots \\\\\n",
        "  a_{m,1} > a_{m,2} > \\cdots > a_{m,n}\n",
        "  \\end{pmatrix}$\n"
      ]
    }
  ]
}